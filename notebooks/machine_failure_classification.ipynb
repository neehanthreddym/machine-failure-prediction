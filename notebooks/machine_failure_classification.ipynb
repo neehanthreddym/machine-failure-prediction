{
 "cells": [
  {
   "cell_type": "markdown",
   "metadata": {},
   "source": [
    "## **Data Exploration**"
   ]
  },
  {
   "cell_type": "markdown",
   "metadata": {},
   "source": [
    "### **Data Loading**"
   ]
  },
  {
   "cell_type": "code",
   "execution_count": 1,
   "metadata": {},
   "outputs": [
    {
     "data": {
      "text/html": [
       "<div>\n",
       "<style scoped>\n",
       "    .dataframe tbody tr th:only-of-type {\n",
       "        vertical-align: middle;\n",
       "    }\n",
       "\n",
       "    .dataframe tbody tr th {\n",
       "        vertical-align: top;\n",
       "    }\n",
       "\n",
       "    .dataframe thead th {\n",
       "        text-align: right;\n",
       "    }\n",
       "</style>\n",
       "<table border=\"1\" class=\"dataframe\">\n",
       "  <thead>\n",
       "    <tr style=\"text-align: right;\">\n",
       "      <th></th>\n",
       "      <th>id</th>\n",
       "      <th>Product ID</th>\n",
       "      <th>Type</th>\n",
       "      <th>Air temperature [K]</th>\n",
       "      <th>Process temperature [K]</th>\n",
       "      <th>Rotational speed [rpm]</th>\n",
       "      <th>Torque [Nm]</th>\n",
       "      <th>Tool wear [min]</th>\n",
       "      <th>Machine failure</th>\n",
       "      <th>TWF</th>\n",
       "      <th>HDF</th>\n",
       "      <th>PWF</th>\n",
       "      <th>OSF</th>\n",
       "      <th>RNF</th>\n",
       "    </tr>\n",
       "  </thead>\n",
       "  <tbody>\n",
       "    <tr>\n",
       "      <th>0</th>\n",
       "      <td>0</td>\n",
       "      <td>L50096</td>\n",
       "      <td>L</td>\n",
       "      <td>300.6</td>\n",
       "      <td>309.6</td>\n",
       "      <td>1596</td>\n",
       "      <td>36.1</td>\n",
       "      <td>140</td>\n",
       "      <td>0</td>\n",
       "      <td>0</td>\n",
       "      <td>0</td>\n",
       "      <td>0</td>\n",
       "      <td>0</td>\n",
       "      <td>0</td>\n",
       "    </tr>\n",
       "    <tr>\n",
       "      <th>1</th>\n",
       "      <td>1</td>\n",
       "      <td>M20343</td>\n",
       "      <td>M</td>\n",
       "      <td>302.6</td>\n",
       "      <td>312.1</td>\n",
       "      <td>1759</td>\n",
       "      <td>29.1</td>\n",
       "      <td>200</td>\n",
       "      <td>0</td>\n",
       "      <td>0</td>\n",
       "      <td>0</td>\n",
       "      <td>0</td>\n",
       "      <td>0</td>\n",
       "      <td>0</td>\n",
       "    </tr>\n",
       "    <tr>\n",
       "      <th>2</th>\n",
       "      <td>2</td>\n",
       "      <td>L49454</td>\n",
       "      <td>L</td>\n",
       "      <td>299.3</td>\n",
       "      <td>308.5</td>\n",
       "      <td>1805</td>\n",
       "      <td>26.5</td>\n",
       "      <td>25</td>\n",
       "      <td>0</td>\n",
       "      <td>0</td>\n",
       "      <td>0</td>\n",
       "      <td>0</td>\n",
       "      <td>0</td>\n",
       "      <td>0</td>\n",
       "    </tr>\n",
       "    <tr>\n",
       "      <th>3</th>\n",
       "      <td>3</td>\n",
       "      <td>L53355</td>\n",
       "      <td>L</td>\n",
       "      <td>301.0</td>\n",
       "      <td>310.9</td>\n",
       "      <td>1524</td>\n",
       "      <td>44.3</td>\n",
       "      <td>197</td>\n",
       "      <td>0</td>\n",
       "      <td>0</td>\n",
       "      <td>0</td>\n",
       "      <td>0</td>\n",
       "      <td>0</td>\n",
       "      <td>0</td>\n",
       "    </tr>\n",
       "    <tr>\n",
       "      <th>4</th>\n",
       "      <td>4</td>\n",
       "      <td>M24050</td>\n",
       "      <td>M</td>\n",
       "      <td>298.0</td>\n",
       "      <td>309.0</td>\n",
       "      <td>1641</td>\n",
       "      <td>35.4</td>\n",
       "      <td>34</td>\n",
       "      <td>0</td>\n",
       "      <td>0</td>\n",
       "      <td>0</td>\n",
       "      <td>0</td>\n",
       "      <td>0</td>\n",
       "      <td>0</td>\n",
       "    </tr>\n",
       "  </tbody>\n",
       "</table>\n",
       "</div>"
      ],
      "text/plain": [
       "   id Product ID Type  Air temperature [K]  Process temperature [K]  \\\n",
       "0   0     L50096    L                300.6                    309.6   \n",
       "1   1     M20343    M                302.6                    312.1   \n",
       "2   2     L49454    L                299.3                    308.5   \n",
       "3   3     L53355    L                301.0                    310.9   \n",
       "4   4     M24050    M                298.0                    309.0   \n",
       "\n",
       "   Rotational speed [rpm]  Torque [Nm]  Tool wear [min]  Machine failure  TWF  \\\n",
       "0                    1596         36.1              140                0    0   \n",
       "1                    1759         29.1              200                0    0   \n",
       "2                    1805         26.5               25                0    0   \n",
       "3                    1524         44.3              197                0    0   \n",
       "4                    1641         35.4               34                0    0   \n",
       "\n",
       "   HDF  PWF  OSF  RNF  \n",
       "0    0    0    0    0  \n",
       "1    0    0    0    0  \n",
       "2    0    0    0    0  \n",
       "3    0    0    0    0  \n",
       "4    0    0    0    0  "
      ]
     },
     "execution_count": 1,
     "metadata": {},
     "output_type": "execute_result"
    }
   ],
   "source": [
    "import pandas as pd\n",
    "import seaborn as sns\n",
    "import matplotlib.pyplot as plt\n",
    "\n",
    "# Read the data\n",
    "train = pd.read_csv(\"C:/Users/91768/machine-failure-prediction/data/train.csv\")\n",
    "test = pd.read_csv(\"C:/Users/91768/machine-failure-prediction/data/test.csv\")\n",
    "\n",
    "train.head()"
   ]
  },
  {
   "cell_type": "code",
   "execution_count": 2,
   "metadata": {},
   "outputs": [
    {
     "data": {
      "text/html": [
       "<div>\n",
       "<style scoped>\n",
       "    .dataframe tbody tr th:only-of-type {\n",
       "        vertical-align: middle;\n",
       "    }\n",
       "\n",
       "    .dataframe tbody tr th {\n",
       "        vertical-align: top;\n",
       "    }\n",
       "\n",
       "    .dataframe thead th {\n",
       "        text-align: right;\n",
       "    }\n",
       "</style>\n",
       "<table border=\"1\" class=\"dataframe\">\n",
       "  <thead>\n",
       "    <tr style=\"text-align: right;\">\n",
       "      <th></th>\n",
       "      <th>id</th>\n",
       "      <th>Product ID</th>\n",
       "      <th>Type</th>\n",
       "      <th>Air temperature [K]</th>\n",
       "      <th>Process temperature [K]</th>\n",
       "      <th>Rotational speed [rpm]</th>\n",
       "      <th>Torque [Nm]</th>\n",
       "      <th>Tool wear [min]</th>\n",
       "      <th>TWF</th>\n",
       "      <th>HDF</th>\n",
       "      <th>PWF</th>\n",
       "      <th>OSF</th>\n",
       "      <th>RNF</th>\n",
       "    </tr>\n",
       "  </thead>\n",
       "  <tbody>\n",
       "    <tr>\n",
       "      <th>0</th>\n",
       "      <td>136429</td>\n",
       "      <td>L50896</td>\n",
       "      <td>L</td>\n",
       "      <td>302.3</td>\n",
       "      <td>311.5</td>\n",
       "      <td>1499</td>\n",
       "      <td>38.0</td>\n",
       "      <td>60</td>\n",
       "      <td>0</td>\n",
       "      <td>0</td>\n",
       "      <td>0</td>\n",
       "      <td>0</td>\n",
       "      <td>0</td>\n",
       "    </tr>\n",
       "    <tr>\n",
       "      <th>1</th>\n",
       "      <td>136430</td>\n",
       "      <td>L53866</td>\n",
       "      <td>L</td>\n",
       "      <td>301.7</td>\n",
       "      <td>311.0</td>\n",
       "      <td>1713</td>\n",
       "      <td>28.8</td>\n",
       "      <td>17</td>\n",
       "      <td>0</td>\n",
       "      <td>0</td>\n",
       "      <td>0</td>\n",
       "      <td>0</td>\n",
       "      <td>0</td>\n",
       "    </tr>\n",
       "    <tr>\n",
       "      <th>2</th>\n",
       "      <td>136431</td>\n",
       "      <td>L50498</td>\n",
       "      <td>L</td>\n",
       "      <td>301.3</td>\n",
       "      <td>310.4</td>\n",
       "      <td>1525</td>\n",
       "      <td>37.7</td>\n",
       "      <td>96</td>\n",
       "      <td>0</td>\n",
       "      <td>0</td>\n",
       "      <td>0</td>\n",
       "      <td>0</td>\n",
       "      <td>0</td>\n",
       "    </tr>\n",
       "    <tr>\n",
       "      <th>3</th>\n",
       "      <td>136432</td>\n",
       "      <td>M21232</td>\n",
       "      <td>M</td>\n",
       "      <td>300.1</td>\n",
       "      <td>309.6</td>\n",
       "      <td>1479</td>\n",
       "      <td>47.6</td>\n",
       "      <td>5</td>\n",
       "      <td>0</td>\n",
       "      <td>0</td>\n",
       "      <td>0</td>\n",
       "      <td>0</td>\n",
       "      <td>0</td>\n",
       "    </tr>\n",
       "    <tr>\n",
       "      <th>4</th>\n",
       "      <td>136433</td>\n",
       "      <td>M19751</td>\n",
       "      <td>M</td>\n",
       "      <td>303.4</td>\n",
       "      <td>312.3</td>\n",
       "      <td>1515</td>\n",
       "      <td>41.3</td>\n",
       "      <td>114</td>\n",
       "      <td>0</td>\n",
       "      <td>0</td>\n",
       "      <td>0</td>\n",
       "      <td>0</td>\n",
       "      <td>0</td>\n",
       "    </tr>\n",
       "  </tbody>\n",
       "</table>\n",
       "</div>"
      ],
      "text/plain": [
       "       id Product ID Type  Air temperature [K]  Process temperature [K]  \\\n",
       "0  136429     L50896    L                302.3                    311.5   \n",
       "1  136430     L53866    L                301.7                    311.0   \n",
       "2  136431     L50498    L                301.3                    310.4   \n",
       "3  136432     M21232    M                300.1                    309.6   \n",
       "4  136433     M19751    M                303.4                    312.3   \n",
       "\n",
       "   Rotational speed [rpm]  Torque [Nm]  Tool wear [min]  TWF  HDF  PWF  OSF  \\\n",
       "0                    1499         38.0               60    0    0    0    0   \n",
       "1                    1713         28.8               17    0    0    0    0   \n",
       "2                    1525         37.7               96    0    0    0    0   \n",
       "3                    1479         47.6                5    0    0    0    0   \n",
       "4                    1515         41.3              114    0    0    0    0   \n",
       "\n",
       "   RNF  \n",
       "0    0  \n",
       "1    0  \n",
       "2    0  \n",
       "3    0  \n",
       "4    0  "
      ]
     },
     "execution_count": 2,
     "metadata": {},
     "output_type": "execute_result"
    }
   ],
   "source": [
    "test.head()"
   ]
  },
  {
   "cell_type": "markdown",
   "metadata": {},
   "source": [
    "### **Initial Data Exploration**"
   ]
  },
  {
   "cell_type": "code",
   "execution_count": 3,
   "metadata": {},
   "outputs": [
    {
     "name": "stdout",
     "output_type": "stream",
     "text": [
      "<class 'pandas.core.frame.DataFrame'>\n",
      "RangeIndex: 136429 entries, 0 to 136428\n",
      "Data columns (total 14 columns):\n",
      " #   Column                   Non-Null Count   Dtype  \n",
      "---  ------                   --------------   -----  \n",
      " 0   id                       136429 non-null  int64  \n",
      " 1   Product ID               136429 non-null  object \n",
      " 2   Type                     136429 non-null  object \n",
      " 3   Air temperature [K]      136429 non-null  float64\n",
      " 4   Process temperature [K]  136429 non-null  float64\n",
      " 5   Rotational speed [rpm]   136429 non-null  int64  \n",
      " 6   Torque [Nm]              136429 non-null  float64\n",
      " 7   Tool wear [min]          136429 non-null  int64  \n",
      " 8   Machine failure          136429 non-null  int64  \n",
      " 9   TWF                      136429 non-null  int64  \n",
      " 10  HDF                      136429 non-null  int64  \n",
      " 11  PWF                      136429 non-null  int64  \n",
      " 12  OSF                      136429 non-null  int64  \n",
      " 13  RNF                      136429 non-null  int64  \n",
      "dtypes: float64(3), int64(9), object(2)\n",
      "memory usage: 14.6+ MB\n"
     ]
    }
   ],
   "source": [
    "train.info()"
   ]
  },
  {
   "cell_type": "code",
   "execution_count": 4,
   "metadata": {},
   "outputs": [
    {
     "name": "stdout",
     "output_type": "stream",
     "text": [
      "<class 'pandas.core.frame.DataFrame'>\n",
      "RangeIndex: 90954 entries, 0 to 90953\n",
      "Data columns (total 13 columns):\n",
      " #   Column                   Non-Null Count  Dtype  \n",
      "---  ------                   --------------  -----  \n",
      " 0   id                       90954 non-null  int64  \n",
      " 1   Product ID               90954 non-null  object \n",
      " 2   Type                     90954 non-null  object \n",
      " 3   Air temperature [K]      90954 non-null  float64\n",
      " 4   Process temperature [K]  90954 non-null  float64\n",
      " 5   Rotational speed [rpm]   90954 non-null  int64  \n",
      " 6   Torque [Nm]              90954 non-null  float64\n",
      " 7   Tool wear [min]          90954 non-null  int64  \n",
      " 8   TWF                      90954 non-null  int64  \n",
      " 9   HDF                      90954 non-null  int64  \n",
      " 10  PWF                      90954 non-null  int64  \n",
      " 11  OSF                      90954 non-null  int64  \n",
      " 12  RNF                      90954 non-null  int64  \n",
      "dtypes: float64(3), int64(8), object(2)\n",
      "memory usage: 9.0+ MB\n"
     ]
    }
   ],
   "source": [
    "test.info()"
   ]
  },
  {
   "cell_type": "code",
   "execution_count": 5,
   "metadata": {},
   "outputs": [
    {
     "name": "stdout",
     "output_type": "stream",
     "text": [
      "Number of duplicate rows in train set: 0\n",
      "Number of duplicate rows in test set: 0\n"
     ]
    }
   ],
   "source": [
    "# Checking for duplicate rows\n",
    "print(\"Number of duplicate rows in train set:\", train.duplicated().sum())\n",
    "print(\"Number of duplicate rows in test set:\", train.duplicated().sum())"
   ]
  },
  {
   "cell_type": "code",
   "execution_count": 6,
   "metadata": {},
   "outputs": [
    {
     "data": {
      "text/html": [
       "<div>\n",
       "<style scoped>\n",
       "    .dataframe tbody tr th:only-of-type {\n",
       "        vertical-align: middle;\n",
       "    }\n",
       "\n",
       "    .dataframe tbody tr th {\n",
       "        vertical-align: top;\n",
       "    }\n",
       "\n",
       "    .dataframe thead th {\n",
       "        text-align: right;\n",
       "    }\n",
       "</style>\n",
       "<table border=\"1\" class=\"dataframe\">\n",
       "  <thead>\n",
       "    <tr style=\"text-align: right;\">\n",
       "      <th></th>\n",
       "      <th>count</th>\n",
       "      <th>mean</th>\n",
       "      <th>std</th>\n",
       "      <th>min</th>\n",
       "      <th>25%</th>\n",
       "      <th>50%</th>\n",
       "      <th>75%</th>\n",
       "      <th>max</th>\n",
       "    </tr>\n",
       "  </thead>\n",
       "  <tbody>\n",
       "    <tr>\n",
       "      <th>id</th>\n",
       "      <td>136429.0</td>\n",
       "      <td>68214.000000</td>\n",
       "      <td>39383.804275</td>\n",
       "      <td>0.0</td>\n",
       "      <td>34107.0</td>\n",
       "      <td>68214.0</td>\n",
       "      <td>102321.0</td>\n",
       "      <td>136428.0</td>\n",
       "    </tr>\n",
       "    <tr>\n",
       "      <th>Air temperature [K]</th>\n",
       "      <td>136429.0</td>\n",
       "      <td>299.862776</td>\n",
       "      <td>1.862247</td>\n",
       "      <td>295.3</td>\n",
       "      <td>298.3</td>\n",
       "      <td>300.0</td>\n",
       "      <td>301.2</td>\n",
       "      <td>304.4</td>\n",
       "    </tr>\n",
       "    <tr>\n",
       "      <th>Process temperature [K]</th>\n",
       "      <td>136429.0</td>\n",
       "      <td>309.941070</td>\n",
       "      <td>1.385173</td>\n",
       "      <td>305.8</td>\n",
       "      <td>308.7</td>\n",
       "      <td>310.0</td>\n",
       "      <td>310.9</td>\n",
       "      <td>313.8</td>\n",
       "    </tr>\n",
       "    <tr>\n",
       "      <th>Rotational speed [rpm]</th>\n",
       "      <td>136429.0</td>\n",
       "      <td>1520.331110</td>\n",
       "      <td>138.736632</td>\n",
       "      <td>1181.0</td>\n",
       "      <td>1432.0</td>\n",
       "      <td>1493.0</td>\n",
       "      <td>1580.0</td>\n",
       "      <td>2886.0</td>\n",
       "    </tr>\n",
       "    <tr>\n",
       "      <th>Torque [Nm]</th>\n",
       "      <td>136429.0</td>\n",
       "      <td>40.348643</td>\n",
       "      <td>8.502229</td>\n",
       "      <td>3.8</td>\n",
       "      <td>34.6</td>\n",
       "      <td>40.4</td>\n",
       "      <td>46.1</td>\n",
       "      <td>76.6</td>\n",
       "    </tr>\n",
       "    <tr>\n",
       "      <th>Tool wear [min]</th>\n",
       "      <td>136429.0</td>\n",
       "      <td>104.408901</td>\n",
       "      <td>63.965040</td>\n",
       "      <td>0.0</td>\n",
       "      <td>48.0</td>\n",
       "      <td>106.0</td>\n",
       "      <td>159.0</td>\n",
       "      <td>253.0</td>\n",
       "    </tr>\n",
       "    <tr>\n",
       "      <th>Machine failure</th>\n",
       "      <td>136429.0</td>\n",
       "      <td>0.015744</td>\n",
       "      <td>0.124486</td>\n",
       "      <td>0.0</td>\n",
       "      <td>0.0</td>\n",
       "      <td>0.0</td>\n",
       "      <td>0.0</td>\n",
       "      <td>1.0</td>\n",
       "    </tr>\n",
       "    <tr>\n",
       "      <th>TWF</th>\n",
       "      <td>136429.0</td>\n",
       "      <td>0.001554</td>\n",
       "      <td>0.039389</td>\n",
       "      <td>0.0</td>\n",
       "      <td>0.0</td>\n",
       "      <td>0.0</td>\n",
       "      <td>0.0</td>\n",
       "      <td>1.0</td>\n",
       "    </tr>\n",
       "    <tr>\n",
       "      <th>HDF</th>\n",
       "      <td>136429.0</td>\n",
       "      <td>0.005160</td>\n",
       "      <td>0.071649</td>\n",
       "      <td>0.0</td>\n",
       "      <td>0.0</td>\n",
       "      <td>0.0</td>\n",
       "      <td>0.0</td>\n",
       "      <td>1.0</td>\n",
       "    </tr>\n",
       "    <tr>\n",
       "      <th>PWF</th>\n",
       "      <td>136429.0</td>\n",
       "      <td>0.002397</td>\n",
       "      <td>0.048899</td>\n",
       "      <td>0.0</td>\n",
       "      <td>0.0</td>\n",
       "      <td>0.0</td>\n",
       "      <td>0.0</td>\n",
       "      <td>1.0</td>\n",
       "    </tr>\n",
       "    <tr>\n",
       "      <th>OSF</th>\n",
       "      <td>136429.0</td>\n",
       "      <td>0.003958</td>\n",
       "      <td>0.062789</td>\n",
       "      <td>0.0</td>\n",
       "      <td>0.0</td>\n",
       "      <td>0.0</td>\n",
       "      <td>0.0</td>\n",
       "      <td>1.0</td>\n",
       "    </tr>\n",
       "    <tr>\n",
       "      <th>RNF</th>\n",
       "      <td>136429.0</td>\n",
       "      <td>0.002258</td>\n",
       "      <td>0.047461</td>\n",
       "      <td>0.0</td>\n",
       "      <td>0.0</td>\n",
       "      <td>0.0</td>\n",
       "      <td>0.0</td>\n",
       "      <td>1.0</td>\n",
       "    </tr>\n",
       "  </tbody>\n",
       "</table>\n",
       "</div>"
      ],
      "text/plain": [
       "                            count          mean           std     min  \\\n",
       "id                       136429.0  68214.000000  39383.804275     0.0   \n",
       "Air temperature [K]      136429.0    299.862776      1.862247   295.3   \n",
       "Process temperature [K]  136429.0    309.941070      1.385173   305.8   \n",
       "Rotational speed [rpm]   136429.0   1520.331110    138.736632  1181.0   \n",
       "Torque [Nm]              136429.0     40.348643      8.502229     3.8   \n",
       "Tool wear [min]          136429.0    104.408901     63.965040     0.0   \n",
       "Machine failure          136429.0      0.015744      0.124486     0.0   \n",
       "TWF                      136429.0      0.001554      0.039389     0.0   \n",
       "HDF                      136429.0      0.005160      0.071649     0.0   \n",
       "PWF                      136429.0      0.002397      0.048899     0.0   \n",
       "OSF                      136429.0      0.003958      0.062789     0.0   \n",
       "RNF                      136429.0      0.002258      0.047461     0.0   \n",
       "\n",
       "                             25%      50%       75%       max  \n",
       "id                       34107.0  68214.0  102321.0  136428.0  \n",
       "Air temperature [K]        298.3    300.0     301.2     304.4  \n",
       "Process temperature [K]    308.7    310.0     310.9     313.8  \n",
       "Rotational speed [rpm]    1432.0   1493.0    1580.0    2886.0  \n",
       "Torque [Nm]                 34.6     40.4      46.1      76.6  \n",
       "Tool wear [min]             48.0    106.0     159.0     253.0  \n",
       "Machine failure              0.0      0.0       0.0       1.0  \n",
       "TWF                          0.0      0.0       0.0       1.0  \n",
       "HDF                          0.0      0.0       0.0       1.0  \n",
       "PWF                          0.0      0.0       0.0       1.0  \n",
       "OSF                          0.0      0.0       0.0       1.0  \n",
       "RNF                          0.0      0.0       0.0       1.0  "
      ]
     },
     "execution_count": 6,
     "metadata": {},
     "output_type": "execute_result"
    }
   ],
   "source": [
    "train.describe().T"
   ]
  },
  {
   "cell_type": "markdown",
   "metadata": {},
   "source": [
    "### **Exploratory Data Analysis**"
   ]
  },
  {
   "cell_type": "markdown",
   "metadata": {},
   "source": [
    "**What percentage of machines fail, and what percentage don’t?**"
   ]
  },
  {
   "cell_type": "code",
   "execution_count": 7,
   "metadata": {},
   "outputs": [
    {
     "data": {
      "image/png": "[encoded data removed]",
      "text/plain": [
       "<Figure size 432x288 with 1 Axes>"
      ]
     },
     "metadata": {
      "needs_background": "light"
     },
     "output_type": "display_data"
    }
   ],
   "source": [
    "# Distribution of target variable\n",
    "target_dist = train['Machine failure'].value_counts()\n",
    "\n",
    "plt.figure(figsize=(6, 4))\n",
    "plt.bar(target_dist.index, target_dist.values, color=['green', 'red'], width=0.5)\n",
    "plt.title('Distribution of Machine Failure (Target Variable)')\n",
    "plt.xlabel('Machine Failure')\n",
    "plt.ylabel('Count')\n",
    "plt.xticks(ticks=[0, 1], labels=['No Failure (0)', 'Failure (1)'])\n",
    "plt.show()"
   ]
  },
  {
   "cell_type": "markdown",
   "metadata": {},
   "source": [
    "**How do different machine types compare in terms of failure rates?**"
   ]
  },
  {
   "cell_type": "code",
   "execution_count": 8,
   "metadata": {},
   "outputs": [
    {
     "data": {
      "text/plain": [
       "array(['L', 'M', 'H'], dtype=object)"
      ]
     },
     "execution_count": 8,
     "metadata": {},
     "output_type": "execute_result"
    }
   ],
   "source": [
    "train[\"Type\"].unique()"
   ]
  },
  {
   "cell_type": "code",
   "execution_count": 9,
   "metadata": {},
   "outputs": [
    {
     "data": {
      "image/png": "[encoded data removed]",
      "text/plain": [
       "<Figure size 720x288 with 1 Axes>"
      ]
     },
     "metadata": {
      "needs_background": "light"
     },
     "output_type": "display_data"
    }
   ],
   "source": [
    "failure_rate_by_type = train.groupby(\"Type\")[\"Machine failure\"].mean()\n",
    "failure_rate_by_type = pd.DataFrame(failure_rate_by_type).reset_index().sort_values('Machine failure')\n",
    "percentages = failure_rate_by_type['Machine failure'] * 100\n",
    "\n",
    "plt.figure(figsize=(10, 4))\n",
    "bars = plt.barh(failure_rate_by_type['Type'], percentages, color=['#1D24CA', 'green', '#B8001F'], height=0.6)\n",
    "plt.title(\"Failure Rate by Machine Type (Percentage)\")\n",
    "plt.xlabel(\"Failure Rate (%)\")\n",
    "plt.ylabel(\"Machine Type\")\n",
    "\n",
    "# Add labels\n",
    "for bar, percentage in zip(bars, percentages):\n",
    "    label = plt.text(bar.get_width()-0.125, bar.get_y() + bar.get_height()/2, f'{percentage:.2f}%', va='center')\n",
    "    label.set_color('#ffffff')\n",
    "    label.set_fontweight(weight='bold')\n",
    "\n",
    "plt.show()"
   ]
  },
  {
   "cell_type": "markdown",
   "metadata": {},
   "source": [
    "More failure rate is observed for the Machine Type `L`(Low performance) compared to `M`(Medium performance) and `H`(High performance)."
   ]
  },
  {
   "cell_type": "markdown",
   "metadata": {},
   "source": [
    "**Distribution of Numerical Features**"
   ]
  },
  {
   "cell_type": "code",
   "execution_count": 10,
   "metadata": {},
   "outputs": [
    {
     "data": {
      "image/png": "[encoded data removed]",
      "text/plain": [
       "<Figure size 1080x720 with 5 Axes>"
      ]
     },
     "metadata": {
      "needs_background": "light"
     },
     "output_type": "display_data"
    }
   ],
   "source": [
    "# Plot distribution of numerical features\n",
    "numerical_cols = ['Air temperature [K]', 'Process temperature [K]', 'Rotational speed [rpm]', 'Torque [Nm]', 'Tool wear [min]']\n",
    "\n",
    "plt.figure(figsize=(15, 10))\n",
    "for i, feature in enumerate(numerical_cols, 1):\n",
    "    plt.subplot(int(len(numerical_cols)/2)+1, 2, i)\n",
    "    sns.histplot(train[feature], kde=True, color='blue')\n",
    "    plt.title(feature)\n",
    "plt.tight_layout()\n",
    "plt.show()"
   ]
  },
  {
   "cell_type": "markdown",
   "metadata": {},
   "source": [
    "- **Rotational speed [rpm]** and **Tool wear [min]**: Distribution is highly skewed to the right, with a peak at low values and a tail extending towards higher values.\n",
    "- **Process temperature [K]**: Distribution is somewhat normal or gaussian but with slight right skew.\n",
    "- **Torque [Nm]**: Distribution appears to be normal or Gaussian.\n",
    "- **Air Temperature [K]**: The features shows a bimodal distribution, meaning it has two distinct peaks."
   ]
  },
  {
   "cell_type": "markdown",
   "metadata": {},
   "source": [
    "**Checking for outliers**"
   ]
  },
  {
   "cell_type": "code",
   "execution_count": 11,
   "metadata": {},
   "outputs": [
    {
     "data": {
      "image/png": "[encoded data removed]",
      "text/plain": [
       "<Figure size 864x576 with 5 Axes>"
      ]
     },
     "metadata": {
      "needs_background": "light"
     },
     "output_type": "display_data"
    }
   ],
   "source": [
    "plt.figure(figsize=(12, 8))\n",
    "for i, feature in enumerate(numerical_cols, 1):\n",
    "    plt.subplot(int(len(numerical_cols)/2)+1, 2, i)\n",
    "    sns.boxplot(x=train[feature], color='orange')\n",
    "    plt.title(f'Box plot for {feature}')\n",
    "plt.tight_layout()\n",
    "plt.show()"
   ]
  },
  {
   "cell_type": "code",
   "execution_count": 12,
   "metadata": {},
   "outputs": [
    {
     "name": "stdout",
     "output_type": "stream",
     "text": [
      "Outliers detected: 9193\n",
      "Train data shape before removing outliers: (136429, 14)\n",
      "Train data shape after removing outliers: (127236, 14)\n"
     ]
    },
    {
     "data": {
      "image/png": "[encoded data removed]",
      "text/plain": [
       "<Figure size 864x576 with 5 Axes>"
      ]
     },
     "metadata": {
      "needs_background": "light"
     },
     "output_type": "display_data"
    }
   ],
   "source": [
    "# Handling the outliers using IQR\n",
    "def detect_outlier_IQR(data, features):\n",
    "\n",
    "    outlier_idxs = set()\n",
    "\n",
    "    for feature in features:\n",
    "        q1 = train[feature].quantile(0.28)\n",
    "        q3 = train[feature].quantile(0.72)\n",
    "        IQR = q3 - q1\n",
    "        lower_bound = q1 - 1.5 * IQR\n",
    "        upper_bound = q3 + 1.5 * IQR\n",
    "        \n",
    "        idx = data[(data[feature]<lower_bound) | (data[feature]>upper_bound)].index\n",
    "        outlier_idxs.update(idx)\n",
    "    \n",
    "    return outlier_idxs\n",
    "\n",
    "outlier_cols = ['Rotational speed [rpm]', 'Torque [Nm]']\n",
    "\n",
    "outlier_idx = detect_outlier_IQR(train, outlier_cols)\n",
    "print(f\"Outliers detected: {len(outlier_idx)}\")\n",
    "\n",
    "# Remove outliers\n",
    "train_no_outliers = train.drop(index=outlier_idx)\n",
    "print(f\"Train data shape before removing outliers: {train.shape}\")\n",
    "print(f\"Train data shape after removing outliers: {train_no_outliers.shape}\")\n",
    "\n",
    "plt.figure(figsize=(12, 8))\n",
    "for i, feature in enumerate(numerical_cols, 1):\n",
    "    plt.subplot(int(len(numerical_cols)/2)+1, 2, i)\n",
    "    sns.boxplot(x=train_no_outliers[feature], color='orange')\n",
    "    plt.title(f'Box plot for {feature}')\n",
    "plt.tight_layout()\n",
    "plt.show()"
   ]
  },
  {
   "cell_type": "markdown",
   "metadata": {},
   "source": [
    "**Which features are most correlated with the target variable?**"
   ]
  },
  {
   "cell_type": "code",
   "execution_count": 13,
   "metadata": {},
   "outputs": [
    {
     "name": "stdout",
     "output_type": "stream",
     "text": [
      "Machine failure            1.000000\n",
      "HDF                        0.611487\n",
      "OSF                        0.492818\n",
      "TWF                        0.346378\n",
      "PWF                        0.202539\n",
      "Torque [Nm]                0.119524\n",
      "Air temperature [K]        0.070210\n",
      "Tool wear [min]            0.055379\n",
      "Process temperature [K]    0.033435\n",
      "RNF                        0.003919\n",
      "id                         0.000437\n",
      "Rotational speed [rpm]    -0.110739\n",
      "Name: Machine failure, dtype: float64\n"
     ]
    }
   ],
   "source": [
    "# Calculate correlation matrix\n",
    "num_cols = train_no_outliers.select_dtypes(include=['int64', 'float64'])\n",
    "correlation_matrix =num_cols.corr()\n",
    "\n",
    "# Analyze correlation with 'Machine failure'\n",
    "correlation_with_target = correlation_matrix['Machine failure'].sort_values(ascending=False)\n",
    "print(correlation_with_target)"
   ]
  },
  {
   "cell_type": "markdown",
   "metadata": {},
   "source": [
    "- `HDF` (Heat Dissipation Failure): Failure related to the machine's ability to dissipate heat.\n",
    "- `OSF` (Overstrain Failure): Failures caused by excessive stress or strain on machine components.\n",
    "- `PWF` (Power Failure): Failures related to the machine's power supply.\n",
    "- `TWF` (Tool Wear Failure): Failures resulting from excessive wear and tear on tools or cutting implements used in the machine.\n",
    "- `RNF`: Random failures\n",
    "\n",
    "`HDF`, `OSF`, `PWF`, `TWF`: These features (likely representing specific failure modes or flags) show a moderate to strong positive correlation with \"Machine failure.\" This means that when these features are present (or increase), the likelihood of machine failure also increases.\n",
    "\n",
    "`Torque`, `Air temperature [K]`, `Tool wear [min]`, and `Process temperature [K]` have some influence, but it's relatively weak.\n",
    "\n",
    "`Rotational speed [rpm]` has very small effect on machine failure.\n",
    "\n",
    "`id` and `RNF` has negligible effect on machine failure."
   ]
  },
  {
   "cell_type": "markdown",
   "metadata": {},
   "source": [
    "**Checking for NULL values**"
   ]
  },
  {
   "cell_type": "code",
   "execution_count": 14,
   "metadata": {},
   "outputs": [
    {
     "name": "stdout",
     "output_type": "stream",
     "text": [
      "NULL count in train data: 0\n",
      "NULL count in test data: 0\n"
     ]
    }
   ],
   "source": [
    "train_nc = train_no_outliers.isna().sum()\n",
    "test_nc = test.isna().sum()\n",
    "\n",
    "print(f\"NULL count in train data: {len(train_nc[train_nc>0])}\")\n",
    "print(f\"NULL count in test data: {len(test_nc[test_nc>0])}\")"
   ]
  },
  {
   "cell_type": "markdown",
   "metadata": {},
   "source": [
    "# **Feature Engineering & Preprocessing**"
   ]
  },
  {
   "cell_type": "markdown",
   "metadata": {},
   "source": [
    "- `id` and `Product Id` may not be useful directly, could be dropped\n",
    "- Encode the `Type` column"
   ]
  },
  {
   "cell_type": "code",
   "execution_count": 34,
   "metadata": {},
   "outputs": [
    {
     "name": "stdout",
     "output_type": "stream",
     "text": [
      "Index(['Type', 'Air temperature [K]', 'Process temperature [K]',\n",
      "       'Rotational speed [rpm]', 'Torque [Nm]', 'Tool wear [min]',\n",
      "       'Machine failure', 'TWF', 'HDF', 'PWF', 'OSF'],\n",
      "      dtype='object')\n",
      "Index(['Type', 'Air temperature [K]', 'Process temperature [K]',\n",
      "       'Rotational speed [rpm]', 'Torque [Nm]', 'Tool wear [min]', 'TWF',\n",
      "       'HDF', 'PWF', 'OSF'],\n",
      "      dtype='object')\n"
     ]
    },
    {
     "data": {
      "text/html": [
       "<div>\n",
       "<style scoped>\n",
       "    .dataframe tbody tr th:only-of-type {\n",
       "        vertical-align: middle;\n",
       "    }\n",
       "\n",
       "    .dataframe tbody tr th {\n",
       "        vertical-align: top;\n",
       "    }\n",
       "\n",
       "    .dataframe thead th {\n",
       "        text-align: right;\n",
       "    }\n",
       "</style>\n",
       "<table border=\"1\" class=\"dataframe\">\n",
       "  <thead>\n",
       "    <tr style=\"text-align: right;\">\n",
       "      <th></th>\n",
       "      <th>Air temperature [K]</th>\n",
       "      <th>Process temperature [K]</th>\n",
       "      <th>Rotational speed [rpm]</th>\n",
       "      <th>Torque [Nm]</th>\n",
       "      <th>Tool wear [min]</th>\n",
       "      <th>Machine failure</th>\n",
       "      <th>TWF</th>\n",
       "      <th>HDF</th>\n",
       "      <th>PWF</th>\n",
       "      <th>OSF</th>\n",
       "      <th>Type_L</th>\n",
       "      <th>Type_M</th>\n",
       "    </tr>\n",
       "  </thead>\n",
       "  <tbody>\n",
       "    <tr>\n",
       "      <th>0</th>\n",
       "      <td>300.6</td>\n",
       "      <td>309.6</td>\n",
       "      <td>1596</td>\n",
       "      <td>36.1</td>\n",
       "      <td>140</td>\n",
       "      <td>0</td>\n",
       "      <td>0</td>\n",
       "      <td>0</td>\n",
       "      <td>0</td>\n",
       "      <td>0</td>\n",
       "      <td>1</td>\n",
       "      <td>0</td>\n",
       "    </tr>\n",
       "    <tr>\n",
       "      <th>3</th>\n",
       "      <td>301.0</td>\n",
       "      <td>310.9</td>\n",
       "      <td>1524</td>\n",
       "      <td>44.3</td>\n",
       "      <td>197</td>\n",
       "      <td>0</td>\n",
       "      <td>0</td>\n",
       "      <td>0</td>\n",
       "      <td>0</td>\n",
       "      <td>0</td>\n",
       "      <td>1</td>\n",
       "      <td>0</td>\n",
       "    </tr>\n",
       "    <tr>\n",
       "      <th>4</th>\n",
       "      <td>298.0</td>\n",
       "      <td>309.0</td>\n",
       "      <td>1641</td>\n",
       "      <td>35.4</td>\n",
       "      <td>34</td>\n",
       "      <td>0</td>\n",
       "      <td>0</td>\n",
       "      <td>0</td>\n",
       "      <td>0</td>\n",
       "      <td>0</td>\n",
       "      <td>0</td>\n",
       "      <td>1</td>\n",
       "    </tr>\n",
       "    <tr>\n",
       "      <th>5</th>\n",
       "      <td>298.4</td>\n",
       "      <td>308.9</td>\n",
       "      <td>1429</td>\n",
       "      <td>42.1</td>\n",
       "      <td>65</td>\n",
       "      <td>0</td>\n",
       "      <td>0</td>\n",
       "      <td>0</td>\n",
       "      <td>0</td>\n",
       "      <td>0</td>\n",
       "      <td>0</td>\n",
       "      <td>1</td>\n",
       "    </tr>\n",
       "    <tr>\n",
       "      <th>6</th>\n",
       "      <td>299.6</td>\n",
       "      <td>311.0</td>\n",
       "      <td>1413</td>\n",
       "      <td>42.9</td>\n",
       "      <td>156</td>\n",
       "      <td>0</td>\n",
       "      <td>0</td>\n",
       "      <td>0</td>\n",
       "      <td>0</td>\n",
       "      <td>0</td>\n",
       "      <td>1</td>\n",
       "      <td>0</td>\n",
       "    </tr>\n",
       "  </tbody>\n",
       "</table>\n",
       "</div>"
      ],
      "text/plain": [
       "   Air temperature [K]  Process temperature [K]  Rotational speed [rpm]  \\\n",
       "0                300.6                    309.6                    1596   \n",
       "3                301.0                    310.9                    1524   \n",
       "4                298.0                    309.0                    1641   \n",
       "5                298.4                    308.9                    1429   \n",
       "6                299.6                    311.0                    1413   \n",
       "\n",
       "   Torque [Nm]  Tool wear [min]  Machine failure  TWF  HDF  PWF  OSF  Type_L  \\\n",
       "0         36.1              140                0    0    0    0    0       1   \n",
       "3         44.3              197                0    0    0    0    0       1   \n",
       "4         35.4               34                0    0    0    0    0       0   \n",
       "5         42.1               65                0    0    0    0    0       0   \n",
       "6         42.9              156                0    0    0    0    0       1   \n",
       "\n",
       "   Type_M  \n",
       "0       0  \n",
       "3       0  \n",
       "4       1  \n",
       "5       1  \n",
       "6       0  "
      ]
     },
     "execution_count": 34,
     "metadata": {},
     "output_type": "execute_result"
    }
   ],
   "source": [
    "# Dropping the unnecessary columns\n",
    "train_df = train_no_outliers.drop(columns=['id', 'Product ID', 'RNF'], errors='ignore')\n",
    "test_df = test.drop(columns=['id', 'Product ID', 'RNF'], errors='ignore')\n",
    "print(train_df.columns)\n",
    "print(test_df.columns)\n",
    "\n",
    "# Encode 'Type' column in train_df\n",
    "train_df = pd.get_dummies(train_df, columns=['Type'], prefix='Type', drop_first=True)\n",
    "train_df.head()"
   ]
  },
  {
   "cell_type": "code",
   "execution_count": 35,
   "metadata": {},
   "outputs": [
    {
     "data": {
      "text/html": [
       "<div>\n",
       "<style scoped>\n",
       "    .dataframe tbody tr th:only-of-type {\n",
       "        vertical-align: middle;\n",
       "    }\n",
       "\n",
       "    .dataframe tbody tr th {\n",
       "        vertical-align: top;\n",
       "    }\n",
       "\n",
       "    .dataframe thead th {\n",
       "        text-align: right;\n",
       "    }\n",
       "</style>\n",
       "<table border=\"1\" class=\"dataframe\">\n",
       "  <thead>\n",
       "    <tr style=\"text-align: right;\">\n",
       "      <th></th>\n",
       "      <th>Air temperature [K]</th>\n",
       "      <th>Process temperature [K]</th>\n",
       "      <th>Rotational speed [rpm]</th>\n",
       "      <th>Torque [Nm]</th>\n",
       "      <th>Tool wear [min]</th>\n",
       "      <th>TWF</th>\n",
       "      <th>HDF</th>\n",
       "      <th>PWF</th>\n",
       "      <th>OSF</th>\n",
       "      <th>Type_L</th>\n",
       "      <th>Type_M</th>\n",
       "    </tr>\n",
       "  </thead>\n",
       "  <tbody>\n",
       "    <tr>\n",
       "      <th>0</th>\n",
       "      <td>302.3</td>\n",
       "      <td>311.5</td>\n",
       "      <td>1499</td>\n",
       "      <td>38.0</td>\n",
       "      <td>60</td>\n",
       "      <td>0</td>\n",
       "      <td>0</td>\n",
       "      <td>0</td>\n",
       "      <td>0</td>\n",
       "      <td>1</td>\n",
       "      <td>0</td>\n",
       "    </tr>\n",
       "    <tr>\n",
       "      <th>1</th>\n",
       "      <td>301.7</td>\n",
       "      <td>311.0</td>\n",
       "      <td>1713</td>\n",
       "      <td>28.8</td>\n",
       "      <td>17</td>\n",
       "      <td>0</td>\n",
       "      <td>0</td>\n",
       "      <td>0</td>\n",
       "      <td>0</td>\n",
       "      <td>1</td>\n",
       "      <td>0</td>\n",
       "    </tr>\n",
       "    <tr>\n",
       "      <th>2</th>\n",
       "      <td>301.3</td>\n",
       "      <td>310.4</td>\n",
       "      <td>1525</td>\n",
       "      <td>37.7</td>\n",
       "      <td>96</td>\n",
       "      <td>0</td>\n",
       "      <td>0</td>\n",
       "      <td>0</td>\n",
       "      <td>0</td>\n",
       "      <td>1</td>\n",
       "      <td>0</td>\n",
       "    </tr>\n",
       "    <tr>\n",
       "      <th>3</th>\n",
       "      <td>300.1</td>\n",
       "      <td>309.6</td>\n",
       "      <td>1479</td>\n",
       "      <td>47.6</td>\n",
       "      <td>5</td>\n",
       "      <td>0</td>\n",
       "      <td>0</td>\n",
       "      <td>0</td>\n",
       "      <td>0</td>\n",
       "      <td>0</td>\n",
       "      <td>1</td>\n",
       "    </tr>\n",
       "    <tr>\n",
       "      <th>4</th>\n",
       "      <td>303.4</td>\n",
       "      <td>312.3</td>\n",
       "      <td>1515</td>\n",
       "      <td>41.3</td>\n",
       "      <td>114</td>\n",
       "      <td>0</td>\n",
       "      <td>0</td>\n",
       "      <td>0</td>\n",
       "      <td>0</td>\n",
       "      <td>0</td>\n",
       "      <td>1</td>\n",
       "    </tr>\n",
       "  </tbody>\n",
       "</table>\n",
       "</div>"
      ],
      "text/plain": [
       "   Air temperature [K]  Process temperature [K]  Rotational speed [rpm]  \\\n",
       "0                302.3                    311.5                    1499   \n",
       "1                301.7                    311.0                    1713   \n",
       "2                301.3                    310.4                    1525   \n",
       "3                300.1                    309.6                    1479   \n",
       "4                303.4                    312.3                    1515   \n",
       "\n",
       "   Torque [Nm]  Tool wear [min]  TWF  HDF  PWF  OSF  Type_L  Type_M  \n",
       "0         38.0               60    0    0    0    0       1       0  \n",
       "1         28.8               17    0    0    0    0       1       0  \n",
       "2         37.7               96    0    0    0    0       1       0  \n",
       "3         47.6                5    0    0    0    0       0       1  \n",
       "4         41.3              114    0    0    0    0       0       1  "
      ]
     },
     "execution_count": 35,
     "metadata": {},
     "output_type": "execute_result"
    }
   ],
   "source": [
    "# Encode 'Type' column in test_df\n",
    "test_df = pd.get_dummies(test_df, columns=['Type'], prefix='Type', drop_first=True)\n",
    "test_df.head()"
   ]
  },
  {
   "cell_type": "markdown",
   "metadata": {},
   "source": [
    "**Train-validation split**"
   ]
  },
  {
   "cell_type": "code",
   "execution_count": 36,
   "metadata": {},
   "outputs": [
    {
     "name": "stdout",
     "output_type": "stream",
     "text": [
      "Actual Response: (127236,)\n",
      "Training set size: (101788, 11)\n",
      "Validation set size: (25448, 11)\n",
      "Test set size: (90954, 11)\n"
     ]
    }
   ],
   "source": [
    "# Train-test split\n",
    "from sklearn.model_selection import train_test_split\n",
    "from sklearn.preprocessing import StandardScaler\n",
    "\n",
    "X = train_df.drop(columns='Machine failure')\n",
    "y = train_df['Machine failure']\n",
    "\n",
    "print(f\"Actual Response: {y.shape}\")\n",
    "\n",
    "X_train, X_val, y_train, y_val = train_test_split(X, y, train_size=0.8, random_state=42, stratify=y)\n",
    "\n",
    "print(\"Training set size:\", X_train.shape)\n",
    "print(\"Validation set size:\", X_val.shape)\n",
    "print(\"Test set size:\", test_df.shape)\n",
    "\n",
    "# Scale only the numerical columns\n",
    "scaler = StandardScaler()\n",
    "\n",
    "# Fit the scaler on training data only\n",
    "scaler.fit(X_train[numerical_cols])\n",
    "\n",
    "# Transform train and validation data\n",
    "X_train_scaled = X_train.copy()\n",
    "X_val_scaled = X_val.copy()\n",
    "test_df_scaled = test_df.copy()\n",
    "\n",
    "X_train_scaled[numerical_cols] = scaler.transform(X_train[numerical_cols])\n",
    "X_val_scaled[numerical_cols] = scaler.transform(X_val[numerical_cols])\n",
    "test_df_scaled[numerical_cols] = scaler.transform(test_df[numerical_cols])"
   ]
  },
  {
   "cell_type": "markdown",
   "metadata": {},
   "source": [
    "# **Machine Learning Models for Classification**"
   ]
  },
  {
   "cell_type": "markdown",
   "metadata": {},
   "source": [
    "### **Baseline model (Logistic Regression)**"
   ]
  },
  {
   "cell_type": "code",
   "execution_count": 88,
   "metadata": {},
   "outputs": [
    {
     "name": "stdout",
     "output_type": "stream",
     "text": [
      "Logistic Regression - Train AUC: 0.935559\n",
      "Logistic Regression - Val AUC: 0.931188\n",
      "Logistic Regression - Train Acc: 0.973121\n",
      "Logistic Regression - Val Acc: 0.973043\n",
      "              precision    recall  f1-score   support\n",
      "\n",
      "           0       1.00      0.98      0.99     25140\n",
      "           1       0.28      0.79      0.41       308\n",
      "\n",
      "    accuracy                           0.97     25448\n",
      "   macro avg       0.64      0.88      0.70     25448\n",
      "weighted avg       0.99      0.97      0.98     25448\n",
      "\n"
     ]
    },
    {
     "data": {
      "image/png": "[encoded data removed]",
      "text/plain": [
       "<Figure size 864x360 with 4 Axes>"
      ]
     },
     "metadata": {
      "needs_background": "light"
     },
     "output_type": "display_data"
    }
   ],
   "source": [
    "from sklearn.linear_model import LogisticRegression\n",
    "from sklearn.metrics import roc_auc_score, accuracy_score, confusion_matrix, precision_score, recall_score, f1_score, classification_report\n",
    "\n",
    "# Initialize and train the model\n",
    "logistic_clf = LogisticRegression(C=0.01, max_iter=1000, class_weight='balanced', random_state=42)\n",
    "logistic_clf.fit(X_train, y_train)\n",
    "\n",
    "# Evaluate the model on Training set\n",
    "y_pred_train_logistic = logistic_clf.predict(X_train)\n",
    "y_prob_train_logistic = logistic_clf.predict_proba(X_train)[:, 1]\n",
    "\n",
    "# Evaluate the model on Validation set\n",
    "y_pred_val_logistic = logistic_clf.predict(X_val)\n",
    "y_prob_val_logistic = logistic_clf.predict_proba(X_val)[:, 1]\n",
    "\n",
    "logistic_train_auc = roc_auc_score(y_train, y_prob_train_logistic)\n",
    "logistic_val_auc = roc_auc_score(y_val, y_prob_val_logistic)\n",
    "logistic_train_accuracy = accuracy_score(y_train, y_pred_train_logistic)\n",
    "logistic_val_accuracy = accuracy_score(y_val, y_pred_val_logistic)\n",
    "\n",
    "print(f\"Logistic Regression - Train AUC: {logistic_train_auc:.6f}\")\n",
    "print(f\"Logistic Regression - Val AUC: {logistic_val_auc:.6f}\")\n",
    "print(f\"Logistic Regression - Train Acc: {logistic_train_accuracy:.6f}\")\n",
    "print(f\"Logistic Regression - Val Acc: {logistic_val_accuracy:.6f}\")\n",
    "print(classification_report(y_true=y_val, y_pred=y_pred_val_logistic))\n",
    "\n",
    "logistic_train_cm = confusion_matrix(y_train, y_pred_train_logistic, labels=logistic_clf.classes_)\n",
    "logistic_val_cm = confusion_matrix(y_val, y_pred_val_logistic, labels=logistic_clf.classes_)\n",
    "\n",
    "plt.figure(figsize=(12, 5))\n",
    "plt.subplot(1,2,1)\n",
    "sns.heatmap(logistic_train_cm, annot=True, fmt='d', cmap='Blues')\n",
    "plt.title(\"Confusion matrix on training data\")\n",
    "plt.xlabel(\"Predicted label\")\n",
    "plt.ylabel(\"True label\")\n",
    "\n",
    "plt.subplot(1,2,2)\n",
    "sns.heatmap(logistic_val_cm, annot=True, fmt='d', cmap='Blues')\n",
    "plt.title(\"Confusion matrix on validation data\")\n",
    "plt.xlabel(\"Predicted label\")\n",
    "plt.ylabel(\"True label\")\n",
    "\n",
    "plt.tight_layout()\n",
    "plt.show()"
   ]
  },
  {
   "cell_type": "code",
   "execution_count": 47,
   "metadata": {},
   "outputs": [
    {
     "name": "stdout",
     "output_type": "stream",
     "text": [
      "Train labels shape: (101788,)\n",
      "No failure rate(%): 98.79\n",
      "Failure rate(%): 1.21\n"
     ]
    }
   ],
   "source": [
    "print(\"Train labels shape:\", y_train.shape)\n",
    "no_failure_rate = (y_train.value_counts()[0] / y_train.shape[0]) * 100\n",
    "failure_rate = (y_train.value_counts()[1] / y_train.shape[0]) * 100\n",
    "print(\"No failure rate(%):\", round(no_failure_rate, 2))\n",
    "print(\"Failure rate(%):\", round(failure_rate, 2))"
   ]
  },
  {
   "cell_type": "markdown",
   "metadata": {},
   "source": [
    "### **Random Forest Classifier**"
   ]
  },
  {
   "cell_type": "code",
   "execution_count": 74,
   "metadata": {},
   "outputs": [
    {
     "name": "stdout",
     "output_type": "stream",
     "text": [
      "Random Forest - Train AUC: 0.981244\n",
      "Random Forest - Val AUC: 0.951709\n",
      "Random Forest - Train Acc: 0.985696\n",
      "Random Forest - Val Acc: 0.984242\n",
      "              precision    recall  f1-score   support\n",
      "\n",
      "           0       1.00      0.99      0.99     25140\n",
      "           1       0.42      0.77      0.54       308\n",
      "\n",
      "    accuracy                           0.98     25448\n",
      "   macro avg       0.71      0.88      0.77     25448\n",
      "weighted avg       0.99      0.98      0.99     25448\n",
      "\n"
     ]
    },
    {
     "data": {
      "image/png": "[encoded data removed]",
      "text/plain": [
       "<Figure size 864x360 with 4 Axes>"
      ]
     },
     "metadata": {
      "needs_background": "light"
     },
     "output_type": "display_data"
    }
   ],
   "source": [
    "from sklearn.ensemble import RandomForestClassifier\n",
    "\n",
    "rf_clf = RandomForestClassifier(n_estimators=200, max_depth=10, min_samples_split=5, min_samples_leaf=2, class_weight='balanced', random_state=42)\n",
    "rf_clf.fit(X_train, y_train)\n",
    "\n",
    "y_pred_train_rf = rf_clf.predict(X_train)\n",
    "y_prob_train_rf = rf_clf.predict_proba(X_train)[:, 1]\n",
    "\n",
    "y_pred_val_rf = rf_clf.predict(X_val)\n",
    "y_prob_val_rf = rf_clf.predict_proba(X_val)[:, 1]\n",
    "\n",
    "# Scores\n",
    "print(f\"Random Forest - Train AUC: {roc_auc_score(y_train, y_prob_train_rf):.6f}\")\n",
    "print(f\"Random Forest - Val AUC: {roc_auc_score(y_val, y_prob_val_rf):.6f}\")\n",
    "print(f\"Random Forest - Train Acc: {accuracy_score(y_train, y_pred_train_rf):.6f}\")\n",
    "print(f\"Random Forest - Val Acc: {accuracy_score(y_val, y_pred_val_rf):.6f}\")\n",
    "print(classification_report(y_true=y_val, y_pred=y_pred_val_rf))\n",
    "\n",
    "rf_train_cm = confusion_matrix(y_train, y_pred_train_rf, labels=rf_clf.classes_)\n",
    "rf_val_cm = confusion_matrix(y_val, y_pred_val_rf, labels=rf_clf.classes_)\n",
    "\n",
    "plt.figure(figsize=(12, 5))\n",
    "plt.subplot(1,2,1)\n",
    "sns.heatmap(rf_train_cm, annot=True, fmt='d', cmap='Blues')\n",
    "plt.title(\"Confusion matrix on training data\")\n",
    "plt.xlabel(\"Predicted label\")\n",
    "plt.ylabel(\"True label\")\n",
    "\n",
    "plt.subplot(1,2,2)\n",
    "sns.heatmap(rf_val_cm, annot=True, fmt='d', cmap='Blues')\n",
    "plt.title(\"Confusion matrix on validation data\")\n",
    "plt.xlabel(\"Predicted label\")\n",
    "plt.ylabel(\"True label\")\n",
    "\n",
    "plt.tight_layout()\n",
    "plt.show()"
   ]
  },
  {
   "cell_type": "markdown",
   "metadata": {},
   "source": [
    "### **Neural Network**"
   ]
  },
  {
   "cell_type": "code",
   "execution_count": 90,
   "metadata": {},
   "outputs": [
    {
     "name": "stdout",
     "output_type": "stream",
     "text": [
      "Model: \"sequential_14\"\n",
      "_________________________________________________________________\n",
      " Layer (type)                Output Shape              Param #   \n",
      "=================================================================\n",
      " dense_56 (Dense)            (None, 128)               1536      \n",
      "                                                                 \n",
      " batch_normalization_42 (Bat  (None, 128)              512       \n",
      " chNormalization)                                                \n",
      "                                                                 \n",
      " dropout_42 (Dropout)        (None, 128)               0         \n",
      "                                                                 \n",
      " dense_57 (Dense)            (None, 64)                8256      \n",
      "                                                                 \n",
      " batch_normalization_43 (Bat  (None, 64)               256       \n",
      " chNormalization)                                                \n",
      "                                                                 \n",
      " dropout_43 (Dropout)        (None, 64)                0         \n",
      "                                                                 \n",
      " dense_58 (Dense)            (None, 32)                2080      \n",
      "                                                                 \n",
      " batch_normalization_44 (Bat  (None, 32)               128       \n",
      " chNormalization)                                                \n",
      "                                                                 \n",
      " dropout_44 (Dropout)        (None, 32)                0         \n",
      "                                                                 \n",
      " dense_59 (Dense)            (None, 1)                 33        \n",
      "                                                                 \n",
      "=================================================================\n",
      "Total params: 12,801\n",
      "Trainable params: 12,353\n",
      "Non-trainable params: 448\n",
      "_________________________________________________________________\n",
      "Epoch 1/50\n",
      "398/398 [==============================] - 3s 5ms/step - loss: 0.5196 - accuracy: 0.6902 - auc: 0.8383 - val_loss: 0.1422 - val_accuracy: 0.9906 - val_auc: 0.9307 - lr: 0.0010\n",
      "Epoch 2/50\n",
      "398/398 [==============================] - 2s 4ms/step - loss: 0.3567 - accuracy: 0.8671 - auc: 0.9148 - val_loss: 0.1383 - val_accuracy: 0.9783 - val_auc: 0.9379 - lr: 0.0010\n",
      "Epoch 3/50\n",
      "398/398 [==============================] - 4s 9ms/step - loss: 0.3102 - accuracy: 0.9088 - auc: 0.9308 - val_loss: 0.1283 - val_accuracy: 0.9826 - val_auc: 0.9442 - lr: 0.0010\n",
      "Epoch 4/50\n",
      "398/398 [==============================] - 5s 12ms/step - loss: 0.2939 - accuracy: 0.9289 - auc: 0.9349 - val_loss: 0.1379 - val_accuracy: 0.9840 - val_auc: 0.9442 - lr: 0.0010\n",
      "Epoch 5/50\n",
      "398/398 [==============================] - 5s 12ms/step - loss: 0.2905 - accuracy: 0.9322 - auc: 0.9347 - val_loss: 0.1283 - val_accuracy: 0.9917 - val_auc: 0.9426 - lr: 0.0010\n",
      "Epoch 6/50\n",
      "398/398 [==============================] - 5s 12ms/step - loss: 0.2823 - accuracy: 0.9471 - auc: 0.9375 - val_loss: 0.1376 - val_accuracy: 0.9859 - val_auc: 0.9441 - lr: 0.0010\n",
      "Epoch 7/50\n",
      "398/398 [==============================] - 5s 12ms/step - loss: 0.2820 - accuracy: 0.9381 - auc: 0.9394 - val_loss: 0.1424 - val_accuracy: 0.9879 - val_auc: 0.9447 - lr: 2.0000e-04\n",
      "Epoch 8/50\n",
      "398/398 [==============================] - 5s 12ms/step - loss: 0.2696 - accuracy: 0.9417 - auc: 0.9442 - val_loss: 0.1358 - val_accuracy: 0.9908 - val_auc: 0.9455 - lr: 2.0000e-04\n",
      "Epoch 9/50\n",
      "398/398 [==============================] - 5s 12ms/step - loss: 0.2724 - accuracy: 0.9460 - auc: 0.9414 - val_loss: 0.1374 - val_accuracy: 0.9915 - val_auc: 0.9459 - lr: 2.0000e-04\n",
      "Epoch 10/50\n",
      "398/398 [==============================] - 5s 11ms/step - loss: 0.2762 - accuracy: 0.9484 - auc: 0.9380 - val_loss: 0.1396 - val_accuracy: 0.9896 - val_auc: 0.9453 - lr: 2.0000e-04\n",
      "Epoch 11/50\n",
      "398/398 [==============================] - 4s 11ms/step - loss: 0.2668 - accuracy: 0.9456 - auc: 0.9444 - val_loss: 0.1385 - val_accuracy: 0.9899 - val_auc: 0.9456 - lr: 2.0000e-04\n",
      "Epoch 12/50\n",
      "398/398 [==============================] - 5s 12ms/step - loss: 0.2761 - accuracy: 0.9468 - auc: 0.9390 - val_loss: 0.1385 - val_accuracy: 0.9901 - val_auc: 0.9458 - lr: 1.0000e-04\n",
      "Epoch 13/50\n",
      "398/398 [==============================] - 5s 11ms/step - loss: 0.2699 - accuracy: 0.9477 - auc: 0.9443 - val_loss: 0.1407 - val_accuracy: 0.9905 - val_auc: 0.9462 - lr: 1.0000e-04\n",
      "Epoch 14/50\n",
      "398/398 [==============================] - 5s 12ms/step - loss: 0.2704 - accuracy: 0.9466 - auc: 0.9427 - val_loss: 0.1390 - val_accuracy: 0.9902 - val_auc: 0.9459 - lr: 1.0000e-04\n",
      "Epoch 15/50\n",
      "398/398 [==============================] - 5s 11ms/step - loss: 0.2658 - accuracy: 0.9484 - auc: 0.9444 - val_loss: 0.1394 - val_accuracy: 0.9905 - val_auc: 0.9459 - lr: 1.0000e-04\n",
      "Epoch 16/50\n",
      "398/398 [==============================] - 5s 11ms/step - loss: 0.2677 - accuracy: 0.9483 - auc: 0.9440 - val_loss: 0.1387 - val_accuracy: 0.9903 - val_auc: 0.9457 - lr: 1.0000e-04\n",
      "Epoch 17/50\n",
      "398/398 [==============================] - 5s 12ms/step - loss: 0.2646 - accuracy: 0.9478 - auc: 0.9454 - val_loss: 0.1377 - val_accuracy: 0.9908 - val_auc: 0.9457 - lr: 1.0000e-04\n",
      "Epoch 18/50\n",
      "398/398 [==============================] - 5s 11ms/step - loss: 0.2665 - accuracy: 0.9474 - auc: 0.9445 - val_loss: 0.1378 - val_accuracy: 0.9897 - val_auc: 0.9453 - lr: 1.0000e-04\n",
      "Epoch 19/50\n",
      "398/398 [==============================] - 5s 12ms/step - loss: 0.2578 - accuracy: 0.9494 - auc: 0.9495 - val_loss: 0.1344 - val_accuracy: 0.9897 - val_auc: 0.9457 - lr: 1.0000e-04\n",
      "Epoch 20/50\n",
      "398/398 [==============================] - 5s 12ms/step - loss: 0.2630 - accuracy: 0.9468 - auc: 0.9471 - val_loss: 0.1367 - val_accuracy: 0.9894 - val_auc: 0.9454 - lr: 1.0000e-04\n",
      "Epoch 21/50\n",
      "398/398 [==============================] - 3s 8ms/step - loss: 0.2654 - accuracy: 0.9499 - auc: 0.9449 - val_loss: 0.1383 - val_accuracy: 0.9893 - val_auc: 0.9455 - lr: 1.0000e-04\n",
      "Epoch 22/50\n",
      "398/398 [==============================] - 2s 5ms/step - loss: 0.2719 - accuracy: 0.9495 - auc: 0.9418 - val_loss: 0.1405 - val_accuracy: 0.9887 - val_auc: 0.9451 - lr: 1.0000e-04\n",
      "Epoch 23/50\n",
      "398/398 [==============================] - 3s 7ms/step - loss: 0.2636 - accuracy: 0.9487 - auc: 0.9459 - val_loss: 0.1421 - val_accuracy: 0.9879 - val_auc: 0.9452 - lr: 1.0000e-04\n",
      "Epoch 24/50\n",
      "398/398 [==============================] - 3s 7ms/step - loss: 0.2651 - accuracy: 0.9460 - auc: 0.9461 - val_loss: 0.1399 - val_accuracy: 0.9890 - val_auc: 0.9450 - lr: 1.0000e-04\n",
      "Epoch 25/50\n",
      "398/398 [==============================] - 2s 5ms/step - loss: 0.2672 - accuracy: 0.9476 - auc: 0.9433 - val_loss: 0.1404 - val_accuracy: 0.9888 - val_auc: 0.9451 - lr: 1.0000e-04\n",
      "Epoch 26/50\n",
      "398/398 [==============================] - 2s 4ms/step - loss: 0.2677 - accuracy: 0.9502 - auc: 0.9429 - val_loss: 0.1408 - val_accuracy: 0.9891 - val_auc: 0.9456 - lr: 1.0000e-04\n",
      "Epoch 27/50\n",
      "398/398 [==============================] - 2s 4ms/step - loss: 0.2629 - accuracy: 0.9502 - auc: 0.9465 - val_loss: 0.1401 - val_accuracy: 0.9889 - val_auc: 0.9452 - lr: 1.0000e-04\n",
      "Epoch 28/50\n",
      "398/398 [==============================] - 2s 5ms/step - loss: 0.2585 - accuracy: 0.9510 - auc: 0.9477 - val_loss: 0.1398 - val_accuracy: 0.9894 - val_auc: 0.9450 - lr: 1.0000e-04\n",
      "Epoch 29/50\n",
      "398/398 [==============================] - 2s 4ms/step - loss: 0.2612 - accuracy: 0.9501 - auc: 0.9461 - val_loss: 0.1398 - val_accuracy: 0.9901 - val_auc: 0.9451 - lr: 1.0000e-04\n",
      "Epoch 30/50\n",
      "398/398 [==============================] - 2s 5ms/step - loss: 0.2585 - accuracy: 0.9519 - auc: 0.9474 - val_loss: 0.1393 - val_accuracy: 0.9905 - val_auc: 0.9449 - lr: 1.0000e-04\n",
      "Epoch 31/50\n",
      "398/398 [==============================] - 2s 6ms/step - loss: 0.2637 - accuracy: 0.9527 - auc: 0.9456 - val_loss: 0.1400 - val_accuracy: 0.9902 - val_auc: 0.9451 - lr: 1.0000e-04\n",
      "Epoch 32/50\n",
      "398/398 [==============================] - 2s 6ms/step - loss: 0.2635 - accuracy: 0.9521 - auc: 0.9455 - val_loss: 0.1398 - val_accuracy: 0.9901 - val_auc: 0.9451 - lr: 1.0000e-04\n",
      "Epoch 33/50\n",
      "398/398 [==============================] - 2s 5ms/step - loss: 0.2574 - accuracy: 0.9518 - auc: 0.9492 - val_loss: 0.1390 - val_accuracy: 0.9895 - val_auc: 0.9455 - lr: 1.0000e-04\n",
      "Epoch 34/50\n",
      "398/398 [==============================] - 2s 5ms/step - loss: 0.2695 - accuracy: 0.9498 - auc: 0.9417 - val_loss: 0.1397 - val_accuracy: 0.9909 - val_auc: 0.9459 - lr: 1.0000e-04\n",
      "Epoch 35/50\n",
      "398/398 [==============================] - 2s 5ms/step - loss: 0.2606 - accuracy: 0.9519 - auc: 0.9476 - val_loss: 0.1399 - val_accuracy: 0.9901 - val_auc: 0.9458 - lr: 1.0000e-04\n",
      "Epoch 36/50\n",
      "398/398 [==============================] - 2s 4ms/step - loss: 0.2651 - accuracy: 0.9526 - auc: 0.9439 - val_loss: 0.1403 - val_accuracy: 0.9902 - val_auc: 0.9458 - lr: 1.0000e-04\n",
      "Epoch 37/50\n",
      "398/398 [==============================] - 2s 5ms/step - loss: 0.2576 - accuracy: 0.9537 - auc: 0.9488 - val_loss: 0.1394 - val_accuracy: 0.9905 - val_auc: 0.9457 - lr: 1.0000e-04\n",
      "Epoch 38/50\n",
      "398/398 [==============================] - 2s 5ms/step - loss: 0.2602 - accuracy: 0.9508 - auc: 0.9480 - val_loss: 0.1408 - val_accuracy: 0.9896 - val_auc: 0.9458 - lr: 1.0000e-04\n",
      "Epoch 39/50\n",
      "398/398 [==============================] - 2s 4ms/step - loss: 0.2594 - accuracy: 0.9520 - auc: 0.9479 - val_loss: 0.1397 - val_accuracy: 0.9901 - val_auc: 0.9458 - lr: 1.0000e-04\n",
      "Epoch 40/50\n",
      "398/398 [==============================] - 2s 5ms/step - loss: 0.2593 - accuracy: 0.9533 - auc: 0.9476 - val_loss: 0.1383 - val_accuracy: 0.9895 - val_auc: 0.9456 - lr: 1.0000e-04\n",
      "Epoch 41/50\n",
      "398/398 [==============================] - 2s 4ms/step - loss: 0.2565 - accuracy: 0.9527 - auc: 0.9491 - val_loss: 0.1393 - val_accuracy: 0.9890 - val_auc: 0.9457 - lr: 1.0000e-04\n",
      "Epoch 42/50\n",
      "398/398 [==============================] - 2s 5ms/step - loss: 0.2573 - accuracy: 0.9507 - auc: 0.9490 - val_loss: 0.1409 - val_accuracy: 0.9880 - val_auc: 0.9460 - lr: 1.0000e-04\n",
      "Epoch 43/50\n",
      "398/398 [==============================] - 2s 4ms/step - loss: 0.2580 - accuracy: 0.9494 - auc: 0.9480 - val_loss: 0.1383 - val_accuracy: 0.9899 - val_auc: 0.9461 - lr: 1.0000e-04\n",
      "Epoch 44/50\n",
      "398/398 [==============================] - 3s 7ms/step - loss: 0.2541 - accuracy: 0.9545 - auc: 0.9506 - val_loss: 0.1396 - val_accuracy: 0.9889 - val_auc: 0.9458 - lr: 1.0000e-04\n",
      "Epoch 45/50\n",
      "398/398 [==============================] - 2s 5ms/step - loss: 0.2628 - accuracy: 0.9502 - auc: 0.9447 - val_loss: 0.1397 - val_accuracy: 0.9890 - val_auc: 0.9462 - lr: 1.0000e-04\n",
      "Epoch 46/50\n",
      "398/398 [==============================] - 1s 4ms/step - loss: 0.2659 - accuracy: 0.9511 - auc: 0.9443 - val_loss: 0.1379 - val_accuracy: 0.9904 - val_auc: 0.9460 - lr: 1.0000e-04\n",
      "Epoch 47/50\n",
      "398/398 [==============================] - 2s 5ms/step - loss: 0.2599 - accuracy: 0.9540 - auc: 0.9466 - val_loss: 0.1413 - val_accuracy: 0.9890 - val_auc: 0.9456 - lr: 1.0000e-04\n",
      "Epoch 48/50\n",
      "398/398 [==============================] - 3s 7ms/step - loss: 0.2607 - accuracy: 0.9538 - auc: 0.9468 - val_loss: 0.1407 - val_accuracy: 0.9890 - val_auc: 0.9455 - lr: 1.0000e-04\n",
      "Epoch 49/50\n",
      "398/398 [==============================] - 3s 7ms/step - loss: 0.2515 - accuracy: 0.9534 - auc: 0.9505 - val_loss: 0.1386 - val_accuracy: 0.9889 - val_auc: 0.9461 - lr: 1.0000e-04\n",
      "Epoch 50/50\n",
      "398/398 [==============================] - 3s 7ms/step - loss: 0.2521 - accuracy: 0.9536 - auc: 0.9507 - val_loss: 0.1396 - val_accuracy: 0.9875 - val_auc: 0.9458 - lr: 1.0000e-04\n",
      "\n",
      "Neural Network - Train AUC: 0.959288\n",
      "Neural Network - Val AUC: 0.945948\n",
      "Neural Network - Train Acc: 0.994665\n",
      "Neural Network - Val Acc: 0.994263\n",
      "              precision    recall  f1-score   support\n",
      "\n",
      "           0       1.00      1.00      1.00     25140\n",
      "           1       0.76      0.77      0.76       308\n",
      "\n",
      "    accuracy                           0.99     25448\n",
      "   macro avg       0.88      0.88      0.88     25448\n",
      "weighted avg       0.99      0.99      0.99     25448\n",
      "\n"
     ]
    },
    {
     "data": {
      "image/png": "[encoded data removed]",
      "text/plain": [
       "<Figure size 864x360 with 4 Axes>"
      ]
     },
     "metadata": {
      "needs_background": "light"
     },
     "output_type": "display_data"
    }
   ],
   "source": [
    "import tensorflow as tf\n",
    "from tensorflow import keras\n",
    "from tensorflow.keras import layers\n",
    "\n",
    "def build_binary_classification_nn(input_shape):\n",
    "    model = keras.Sequential([\n",
    "        layers.Input(shape=input_shape),\n",
    "        layers.Dense(units=128, activation='relu'),\n",
    "        layers.BatchNormalization(),\n",
    "        layers.Dropout(0.6),\n",
    "        layers.Dense(units=64, activation='relu'),\n",
    "        layers.BatchNormalization(),\n",
    "        layers.Dropout(0.3),\n",
    "        layers.Dense(units=32, activation='relu'),\n",
    "        layers.BatchNormalization(),\n",
    "        layers.Dropout(0.2),\n",
    "        layers.Dense(units=1, activation='sigmoid')\n",
    "    ])\n",
    "    return model\n",
    "\n",
    "num_features = X_train_scaled.shape[1]\n",
    "nn_model = build_binary_classification_nn(input_shape=(num_features,))\n",
    "\n",
    "# Compile the model\n",
    "nn_model.compile(optimizer='adam',\n",
    "                 loss='binary_crossentropy',\n",
    "                 metrics=['accuracy', tf.keras.metrics.AUC(name='auc')])\n",
    "\n",
    "# Print the model summary to see the architecture\n",
    "nn_model.summary()\n",
    "\n",
    "# --- Training the Neural Network ---\n",
    "# Calculate class weights to handle imbalance\n",
    "total_samples = len(y_train)\n",
    "n_positive = sum(y_train)\n",
    "n_negative = total_samples - n_positive\n",
    "weight_for_negative = (1 / n_negative) * (total_samples / 2.0)\n",
    "weight_for_positive = (1 / n_positive) * (total_samples / 2.0)\n",
    "class_weight = {0: weight_for_negative, 1: weight_for_positive}\n",
    "\n",
    "# Define callbacks for early stopping and potentially reducing learning rate\n",
    "#early_stopping = keras.callbacks.EarlyStopping(monitor='val_auc', patience=10, restore_best_weights=True)\n",
    "reduce_lr = keras.callbacks.ReduceLROnPlateau(monitor='val_auc', factor=0.2, patience=5, min_lr=0.0001)\n",
    "\n",
    "# Train the model\n",
    "history = nn_model.fit(X_train_scaled, y_train,\n",
    "                       epochs=50,\n",
    "                       batch_size=256,\n",
    "                       validation_data=(X_val_scaled, y_val),\n",
    "                       class_weight=class_weight,\n",
    "                       callbacks = reduce_lr,\n",
    "                       verbose=1)\n",
    "\n",
    "# --- Evaluate the Neural Network ---\n",
    "y_pred_train_nn_prob = nn_model.predict(X_train_scaled)\n",
    "y_pred_val_nn_prob = nn_model.predict(X_val_scaled)\n",
    "\n",
    "y_pred_train_nn = (y_pred_train_nn_prob > 0.6).astype(\"int32\")\n",
    "y_pred_val_nn = (y_pred_val_nn_prob > 0.6).astype(\"int32\")\n",
    "\n",
    "nn_train_auc = roc_auc_score(y_train, y_pred_train_nn_prob)\n",
    "nn_val_auc = roc_auc_score(y_val, y_pred_val_nn_prob)\n",
    "nn_train_accuracy = accuracy_score(y_train, y_pred_train_nn)\n",
    "nn_val_accuracy = accuracy_score(y_val, y_pred_val_nn)\n",
    "\n",
    "print(f\"\\nNeural Network - Train AUC: {nn_train_auc:.6f}\")\n",
    "print(f\"Neural Network - Val AUC: {nn_val_auc:.6f}\")\n",
    "print(f\"Neural Network - Train Acc: {nn_train_accuracy:.6f}\")\n",
    "print(f\"Neural Network - Val Acc: {nn_val_accuracy:.6f}\")\n",
    "print(classification_report(y_true=y_val, y_pred=y_pred_val_nn))\n",
    "\n",
    "nn_train_cm = confusion_matrix(y_train, y_pred_train_nn)\n",
    "nn_val_cm = confusion_matrix(y_val, y_pred_val_nn)\n",
    "\n",
    "plt.figure(figsize=(12, 5))\n",
    "plt.subplot(1,2,1)\n",
    "sns.heatmap(nn_train_cm, annot=True, fmt='d', cmap='Blues')\n",
    "plt.title(\"NN Confusion matrix on training data\")\n",
    "plt.xlabel(\"Predicted label\")\n",
    "plt.ylabel(\"True label\")\n",
    "\n",
    "plt.subplot(1,2,2)\n",
    "sns.heatmap(nn_val_cm, annot=True, fmt='d', cmap='Blues')\n",
    "plt.title(\"NN Confusion matrix on validation data\")\n",
    "plt.xlabel(\"Predicted label\")\n",
    "plt.ylabel(\"True label\")\n",
    "\n",
    "plt.tight_layout()\n",
    "plt.show()"
   ]
  },
  {
   "cell_type": "code",
   "execution_count": 94,
   "metadata": {},
   "outputs": [
    {
     "data": {
      "image/png": "[encoded data removed]",
      "text/plain": [
       "<Figure size 1224x360 with 3 Axes>"
      ]
     },
     "metadata": {
      "needs_background": "light"
     },
     "output_type": "display_data"
    }
   ],
   "source": [
    "# --- Plot training history ---\n",
    "plt.figure(figsize=(17, 5))\n",
    "plt.subplot(1, 3, 1)\n",
    "plt.plot(history.history['loss'], label='Train Loss')\n",
    "plt.plot(history.history['val_loss'], label='Validation Loss')\n",
    "plt.title('Loss over Epochs')\n",
    "plt.xlabel('Epochs')\n",
    "plt.ylabel('Loss')\n",
    "plt.legend()\n",
    "\n",
    "plt.subplot(1, 3, 2)\n",
    "plt.plot(history.history['accuracy'], label='Train Accuracy')\n",
    "plt.plot(history.history['val_accuracy'], label='Validation Accuracy')\n",
    "plt.title('Accuracy over Epochs')\n",
    "plt.xlabel('Epochs')\n",
    "plt.ylabel('Accuracy')\n",
    "plt.legend()\n",
    "\n",
    "plt.subplot(1, 3, 3)\n",
    "plt.plot(history.history['auc'], label='Train AUC')\n",
    "plt.plot(history.history['val_auc'], label='Validation AUC')\n",
    "plt.title('AUC over Epochs')\n",
    "plt.xlabel('Epochs')\n",
    "plt.ylabel('AUC')\n",
    "plt.legend()\n",
    "\n",
    "plt.tight_layout()\n",
    "plt.show()"
   ]
  },
  {
   "cell_type": "markdown",
   "metadata": {},
   "source": [
    "The model is learning and improving over time. It's performing well on both the data it was trained on and new, unseen data. There isn't a sign of  overfitting."
   ]
  },
  {
   "cell_type": "code",
   "execution_count": null,
   "metadata": {},
   "outputs": [],
   "source": []
  }
 ],
 "metadata": {
  "kernelspec": {
   "display_name": "base",
   "language": "python",
   "name": "python3"
  },
  "language_info": {
   "codemirror_mode": {
    "name": "ipython",
    "version": 3
   },
   "file_extension": ".py",
   "mimetype": "text/x-python",
   "name": "python",
   "nbconvert_exporter": "python",
   "pygments_lexer": "ipython3",
   "version": "3.9.7"
  }
 },
 "nbformat": 4,
 "nbformat_minor": 2
}
